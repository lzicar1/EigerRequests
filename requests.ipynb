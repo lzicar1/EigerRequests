{
 "cells": [
  {
   "cell_type": "code",
   "execution_count": 1,
   "metadata": {},
   "outputs": [],
   "source": [
    "import json\n",
    "# Imports \"JSON\" library\n",
    "import requests\n",
    "# Imports \"requests\" library"
   ]
  },
  {
   "cell_type": "code",
   "execution_count": null,
   "metadata": {},
   "outputs": [],
   "source": []
  },
  {
   "cell_type": "code",
   "execution_count": 3,
   "metadata": {},
   "outputs": [
    {
     "name": "stdout",
     "output_type": "stream",
     "text": [
      "200\n",
      "['bit_depth_image', 'count_time', 'countrate_correction_count_cutoff', 'frame_count_time', 'frame_period', 'nframes_sum']\n"
     ]
    }
   ],
   "source": [
    "# Imports \"requests\" library\n",
    "dict_data = {'value':0.002}\n",
    "# Prepare the dictionary (a \"value\" with the value 8040.0)\n",
    "data_json = json.dumps(dict_data)\n",
    "# Convert the dictionary to JSON\n",
    "r = requests.put('http://10.0.1.50/detector/api/1.6.0/config/count_time', data=data_json)\n",
    "# Execute the request on the config value \"photon_energy\" (REPLACE <ADDRESS_of_DCU> and <VERSION> with the values of YOUR system)\n",
    "print(r.status_code)\n",
    "# Print the http status code (NOTE: Only http code 200 is OK, everything else is an error)\n",
    "print(r.json())\n",
    "# Print the returned JSON string. (Containing the names of the subsequently changed values)"
   ]
  },
  {
   "cell_type": "code",
   "execution_count": 4,
   "metadata": {},
   "outputs": [
    {
     "name": "stdout",
     "output_type": "stream",
     "text": [
      "200\n",
      "['bit_depth_image', 'countrate_correction_count_cutoff', 'frame_count_time', 'frame_period', 'nframes_sum', 'frame_time']\n"
     ]
    }
   ],
   "source": [
    "# Imports \"requests\" library\n",
    "dict_data = {'value':0.005}\n",
    "# Prepare the dictionary (a \"value\" with the value 8040.0)\n",
    "data_json = json.dumps(dict_data)\n",
    "# Convert the dictionary to JSON\n",
    "r = requests.put('http://10.0.1.50/detector/api/1.6.0/config/frame_time', data=data_json)\n",
    "# Execute the request on the config value \"photon_energy\" (REPLACE <ADDRESS_of_DCU> and <VERSION> with the values of YOUR system)\n",
    "print(r.status_code)\n",
    "# Print the http status code (NOTE: Only http code 200 is OK, everything else is an error)\n",
    "print(r.json())\n",
    "# Print the returned JSON string. (Containing the names of the subsequently changed values)"
   ]
  },
  {
   "cell_type": "code",
   "execution_count": 6,
   "metadata": {},
   "outputs": [],
   "source": [
    "# Imports \"requests\" library\n",
    "dict_data = {'value':0.004}\n",
    "# Prepare the dictionary (a \"value\" with the value 8040.0)\n",
    "data_json = json.dumps(dict_data)\n",
    "# Imports \"requests\" library\n",
    "r = requests.put('http://10.0.1.50/detector/api/1.6.0/config/count_time', data=data_json)\n",
    "\n",
    "dict_data = {'value':0.006}\n",
    "# Prepare the dictionary (a \"value\" with the value 8040.0)\n",
    "data_json = json.dumps(dict_data)\n",
    "\n",
    "r = requests.put('http://10.0.1.50/detector/api/1.6.0/config/frame_time', data=data_json)"
   ]
  },
  {
   "cell_type": "code",
   "execution_count": 19,
   "metadata": {},
   "outputs": [
    {
     "name": "stdout",
     "output_type": "stream",
     "text": [
      "count time =  0.004000000189989805 sec\n",
      "frame time =  0.006000000052154064 sec\n"
     ]
    }
   ],
   "source": [
    "print(\"count time = \", requests.get('http://10.0.1.50/detector/api/1.6.0/config/count_time').json()[\"value\"], \"sec\")\n",
    "print(\"frame time = \", requests.get('http://10.0.1.50/detector/api/1.6.0/config/frame_time').json()[\"value\"], \"sec\")"
   ]
  },
  {
   "cell_type": "code",
   "execution_count": null,
   "metadata": {},
   "outputs": [],
   "source": []
  }
 ],
 "metadata": {
  "kernelspec": {
   "display_name": "Python 3.9.13 ('base')",
   "language": "python",
   "name": "python3"
  },
  "language_info": {
   "codemirror_mode": {
    "name": "ipython",
    "version": 3
   },
   "file_extension": ".py",
   "mimetype": "text/x-python",
   "name": "python",
   "nbconvert_exporter": "python",
   "pygments_lexer": "ipython3",
   "version": "3.9.13"
  },
  "orig_nbformat": 4,
  "vscode": {
   "interpreter": {
    "hash": "a3bc87c33ce804fde0b7e38c4a6eb6a05850fcc5ecf42cac42cfaaf92923d0e1"
   }
  }
 },
 "nbformat": 4,
 "nbformat_minor": 2
}
