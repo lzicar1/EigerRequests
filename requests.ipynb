{
 "cells": [
  {
   "cell_type": "code",
   "execution_count": null,
   "metadata": {},
   "outputs": [],
   "source": [
    "import json\n",
    "# Imports \"JSON\" library\n",
    "import requests\n",
    "# Imports \"requests\" library\n",
    "dict_data = {'value':0.001}\n",
    "# Prepare the dictionary (a \"value\" with the value 8040.0)\n",
    "data_json = json.dumps(dict_data)\n",
    "# Convert the dictionary to JSON\n",
    "r = requests.put('http://10.0.1.50/detector/api/1.6.0/config/count_time', data=data_json)\n",
    "# Execute the request on the config value \"photon_energy\" (REPLACE <ADDRESS_of_DCU> and <VERSION> with the values of YOUR system)\n",
    "print(r.status_code)\n",
    "# Print the http status code (NOTE: Only http code 200 is OK, everything else is an error)\n",
    "print(r.json())\n",
    "# Print the returned JSON string. (Containing the names of the subsequently changed values)"
   ]
  }
 ],
 "metadata": {
  "language_info": {
   "name": "python"
  },
  "orig_nbformat": 4
 },
 "nbformat": 4,
 "nbformat_minor": 2
}
